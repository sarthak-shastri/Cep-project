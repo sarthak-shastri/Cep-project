{
  "cells": [
    {
      "cell_type": "code",
      "execution_count": 1,
      "metadata": {
        "colab": {
          "base_uri": "https://localhost:8080/",
          "height": 647
        },
        "id": "ixNYUZqeV98I",
        "outputId": "c50e10e4-4cf5-4063-a6ea-7730dae4fe35"
      },
      "outputs": [
        {
          "name": "stdout",
          "output_type": "stream",
          "text": [
            "* Running on local URL:  http://127.0.0.1:7860\n",
            "* Running on public URL: https://1f0f38ad311589ab38.gradio.live\n",
            "\n",
            "This share link expires in 1 week. For free permanent hosting and GPU upgrades, run `gradio deploy` from the terminal in the working directory to deploy to Hugging Face Spaces (https://huggingface.co/spaces)\n"
          ]
        },
        {
          "data": {
            "text/html": [
              "<div><iframe src=\"https://1f0f38ad311589ab38.gradio.live\" width=\"100%\" height=\"500\" allow=\"autoplay; camera; microphone; clipboard-read; clipboard-write;\" frameborder=\"0\" allowfullscreen></iframe></div>"
            ],
            "text/plain": [
              "<IPython.core.display.HTML object>"
            ]
          },
          "metadata": {},
          "output_type": "display_data"
        }
      ],
      "source": [
        "import gradio as gr\n",
        "import joblib\n",
        "import pandas as pd\n",
        "from datetime import datetime\n",
        "import numpy as np\n",
        "import re\n",
        "\n",
        "# --- Features list matches the trained Pune model from trial.ipynb ---\n",
        "FEATURES = [\n",
        "    'T2M', 'RH2M', 'WS2M', 'PRECTOTCORR', 'PS',\n",
        "    'CLRSKY_SFC_SW_DWN',\n",
        "    'ALLSKY_KT',\n",
        "    'Month', 'DayOfYear', 'Weekday'\n",
        "]\n",
        "\n",
        "def load_pune_model():\n",
        "    \"\"\"Loads the specific joblib model file for Pune.\"\"\"\n",
        "    filename = \"pune_xgb_model.pkl\"\n",
        "    try:\n",
        "        model = joblib.load(filename)\n",
        "        return model\n",
        "    except FileNotFoundError:\n",
        "        print(\"Error: pune_xgb_model.pkl not found. Please train and save the model first.\")\n",
        "        return None\n",
        "\n",
        "def predict_solar_output(T2M, RH2M, WS2M, PRECTOTCORR, PS, CLRSKY_SFC_SW_DWN, ALLSKY_KT, date_str):\n",
        "    \"\"\"Predicts solar output using the feature set for the Pune model.\"\"\"\n",
        "    # 1. Input Type Validation\n",
        "    try:\n",
        "        inputs = [T2M, RH2M, WS2M, PRECTOTCORR, PS, CLRSKY_SFC_SW_DWN, ALLSKY_KT]\n",
        "        T2M, RH2M, WS2M, PRECTOTCORR, PS, CLRSKY_SFC_SW_DWN, ALLSKY_KT = map(float, inputs)\n",
        "    except (ValueError, TypeError):\n",
        "        return \"❌ Error: All weather inputs must be valid numbers.\"\n",
        "\n",
        "    # 2. Boundary Case Validation for each parameter\n",
        "    # --- MODIFIED LINE: Temperature range is now -40°C to 70°C ---\n",
        "    if not (-40 <= T2M <= 70):\n",
        "        return f\"❌ Error: Temperature ({T2M}°C) is out of the valid range (-40°C to 70°C).\"\n",
        "    if not (0 <= RH2M <= 100):\n",
        "        return f\"❌ Error: Humidity ({RH2M}%) is out of the valid range (0% to 100%).\"\n",
        "    if not (0 <= WS2M <= 40):\n",
        "        return f\"❌ Error: Wind Speed ({WS2M} m/s) is out of the valid range (0 to 40 m/s).\"\n",
        "    if not (0 <= PRECTOTCORR <= 500):\n",
        "        return f\"❌ Error: Precipitation ({PRECTOTCORR} mm) is out of the valid range (0 to 500 mm).\"\n",
        "    if not (90 <= PS <= 110):\n",
        "        return f\"❌ Error: Surface Pressure ({PS} kPa) is out of the valid range (90 to 110 kPa).\"\n",
        "    if not (0 <= CLRSKY_SFC_SW_DWN <= 12):\n",
        "        return f\"❌ Error: Clear Sky Radiation ({CLRSKY_SFC_SW_DWN}) is out of the valid range (0 to 12).\"\n",
        "    if not (0 <= ALLSKY_KT <= 1):\n",
        "        return f\"❌ Error: Clearness Index ({ALLSKY_KT}) must be between 0.0 and 1.0.\"\n",
        "\n",
        "    model = load_pune_model()\n",
        "    if model is None:\n",
        "        return \"❌ Error: Model file for Pune not found. Please run your training script.\"\n",
        "\n",
        "    try:\n",
        "        date_obj = datetime.strptime(date_str, \"%Y-%m-%d\")\n",
        "    except ValueError:\n",
        "        return \"❌ Invalid date format. Please use YYYY-MM-DD.\"\n",
        "\n",
        "    # 3. Feature Generation\n",
        "    input_dict = {\n",
        "        'T2M': T2M,\n",
        "        'RH2M': RH2M,\n",
        "        'WS2M': WS2M,\n",
        "        'PRECTOTCORR': PRECTOTCORR,\n",
        "        'PS': PS,\n",
        "        'CLRSKY_SFC_SW_DWN': CLRSKY_SFC_SW_DWN,\n",
        "        'ALLSKY_KT': ALLSKY_KT,\n",
        "        'Month': date_obj.month,\n",
        "        'DayOfYear': date_obj.timetuple().tm_yday,\n",
        "        'Weekday': date_obj.weekday()\n",
        "    }\n",
        "\n",
        "    # 4. Create DataFrame and Predict\n",
        "    X = pd.DataFrame([input_dict], columns=FEATURES)\n",
        "\n",
        "    try:\n",
        "        prediction = model.predict(X)[0]\n",
        "    except Exception as e:\n",
        "        return f\"❌ Prediction error: {str(e)}\"\n",
        "\n",
        "    return f\"🌞 Predicted Solar Radiation for Pune: {prediction:.2f} kWh/m²\"\n",
        "\n",
        "\n",
        "def build_pune_interface():\n",
        "    \"\"\"Builds the Gradio UI specifically for Pune.\"\"\"\n",
        "    with gr.Blocks() as demo:\n",
        "        gr.Markdown(\"# 🔆 Solar Radiation Prediction for Pune\")\n",
        "        gr.Markdown(\"Predict daily solar energy based on weather conditions.\")\n",
        "\n",
        "        with gr.Row():\n",
        "            gr.Markdown(\"### City: Pune\")\n",
        "            date_input = gr.Textbox(label=\"Date (YYYY-MM-DD)\", value=datetime.today().strftime(\"%Y-%m-%d\"))\n",
        "        with gr.Row():\n",
        "            T2M = gr.Number(label=\"Temperature (°C)\", value=30.0)\n",
        "            RH2M = gr.Number(label=\"Humidity (%)\", value=50.0)\n",
        "            WS2M = gr.Number(label=\"Wind Speed (m/s)\", value=2.0)\n",
        "        with gr.Row():\n",
        "            PRECTOTCORR = gr.Number(label=\"Precipitation (mm/day)\", value=0.0)\n",
        "            PS = gr.Number(label=\"Surface Pressure (kPa)\", value=101.3)\n",
        "            CLRSKY_SFC_SW_DWN = gr.Number(label=\"Clear Sky Radiation (kWh/m²)\", value=5.5)\n",
        "            ALLSKY_KT = gr.Number(label=\"Clearness Index (0 to 1)\", value=0.65)\n",
        "\n",
        "        predict_btn = gr.Button(\"Predict Solar Radiation\")\n",
        "        output = gr.Textbox(label=\"Prediction Output\", lines=2)\n",
        "\n",
        "        predict_btn.click(\n",
        "            fn=predict_solar_output,\n",
        "            inputs=[T2M, RH2M, WS2M, PRECTOTCORR, PS, CLRSKY_SFC_SW_DWN, ALLSKY_KT, date_input],\n",
        "            outputs=output\n",
        "        )\n",
        "    return demo\n",
        "\n",
        "if __name__ == \"__main__\":\n",
        "    app = build_pune_interface()\n",
        "    app.launch(share=True)"
      ]
    },
    {
      "cell_type": "code",
      "execution_count": null,
      "metadata": {},
      "outputs": [],
      "source": []
    }
  ],
  "metadata": {
    "colab": {
      "provenance": []
    },
    "kernelspec": {
      "display_name": "base",
      "language": "python",
      "name": "python3"
    },
    "language_info": {
      "codemirror_mode": {
        "name": "ipython",
        "version": 3
      },
      "file_extension": ".py",
      "mimetype": "text/x-python",
      "name": "python",
      "nbconvert_exporter": "python",
      "pygments_lexer": "ipython3",
      "version": "3.13.5"
    }
  },
  "nbformat": 4,
  "nbformat_minor": 0
}
